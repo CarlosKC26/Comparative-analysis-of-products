{
 "cells": [
  {
   "cell_type": "code",
   "execution_count": 4,
   "metadata": {},
   "outputs": [],
   "source": [
    "import json\n",
    "from llama_models.llama3.reference_impl.generation import Llama\n",
    "from llama_models.llama3.api.datatypes import UserMessage, SystemMessage\n",
    "import os\n",
    "import sys\n",
    "from llama_models.llama3.api.datatypes import (\n",
    "    UserMessage,\n",
    "    SystemMessage,\n",
    "    CompletionMessage,\n",
    "    StopReason,\n",
    ")\n",
    "from llama_models.llama3.reference_impl.generation import Llama\n",
    "import pandas as pd\n",
    "from io import StringIO\n",
    "import numpy as np\n",
    "import re\n",
    "import requests\n",
    "import ollama\n",
    "import random\n",
    "from tiktoken import get_encoding"
   ]
  },
  {
   "cell_type": "code",
   "execution_count": 6,
   "metadata": {},
   "outputs": [
    {
     "data": {
      "text/plain": [
       "'labels_with_definitions = [\\n    (\"Peso\", \"Indica la ligereza de la zapatilla, generalmente expresado en gramos. El peso puede influir en el rendimiento y la comodidad durante la carrera.\"),\\n    (\"Material del upper (parte superior)\", \"Describe los materiales utilizados en la parte superior de la zapatilla, como malla, cuero sintético o tejidos técnicos, que afectan la transpirabilidad, flexibilidad y soporte.\"),\\n    (\"Material de la mediasuela\", \"Se refiere a los compuestos empleados en la entresuela, como espumas EVA o tecnologías propietarias, que proporcionan amortiguación y absorción de impactos.\"),\\n    (\"Suela exterior\", \"Detalla el tipo de goma o caucho utilizado en la suela y el diseño del patrón de tracción, aspectos que influyen en el agarre y la durabilidad en diversas superficies.\"),\\n    (\"Sistema de amortiguación\", \"Especifica las tecnologías o materiales destinados a reducir el impacto durante la pisada, contribuyendo al confort y la protección de las articulaciones.\"),\\n    (\"Drop (diferencial talón-punta)\", \"Indica la diferencia de altura entre el talón y la punta de la zapatilla, medida en milímetros. Un drop alto suele ofrecer mayor amortiguación en el talón, mientras que un drop bajo promueve una pisada más natural.\"),\\n    (\"Tipo de pisada\", \"Clasifica la zapatilla según su adecuación para diferentes tipos de pisada: neutra, pronadora o supinadora. Esto es esencial para elegir un calzado que se adapte a la biomecánica del corredor.\"),\\n    (\"Tipo de uso\", \"Define el propósito principal de la zapatilla, como entrenamiento diario, competición, trail running o uso casual, lo que orienta sobre su diseño y funcionalidades específicas.\"),\\n    (\"Género\", \"Indica si la zapatilla está diseñada para hombres, mujeres o es un modelo unisex, considerando diferencias anatómicas y de tamaño.\"),\\n    (\"Tallas disponibles\", \"Especifica el rango de tallas en las que se ofrece la zapatilla, asegurando que el corredor pueda encontrar un ajuste adecuado.\"),\\n    (\"Anchura\", \"Algunas marcas ofrecen diferentes anchos (estrecho, estándar, ancho) para adaptarse a diversas morfologías del pie.\"),\\n    (\"Precio\", \"Proporciona el costo de la zapatilla, un factor determinante en la decisión de compra.\"),\\n    (\"Tecnologías adicionales\", \"Incluye características especiales como impermeabilidad, reflectividad, sistemas de ajuste personalizados o elementos de estabilidad que mejoran la funcionalidad del calzado.\"),\\n]'"
      ]
     },
     "execution_count": 6,
     "metadata": {},
     "output_type": "execute_result"
    }
   ],
   "source": [
    "'''labels_with_definitions = [\n",
    "    (\"Peso\", \"Indica la ligereza de la zapatilla, generalmente expresado en gramos. El peso puede influir en el rendimiento y la comodidad durante la carrera.\"),\n",
    "    (\"Material del upper (parte superior)\", \"Describe los materiales utilizados en la parte superior de la zapatilla, como malla, cuero sintético o tejidos técnicos, que afectan la transpirabilidad, flexibilidad y soporte.\"),\n",
    "    (\"Material de la mediasuela\", \"Se refiere a los compuestos empleados en la entresuela, como espumas EVA o tecnologías propietarias, que proporcionan amortiguación y absorción de impactos.\"),\n",
    "    (\"Suela exterior\", \"Detalla el tipo de goma o caucho utilizado en la suela y el diseño del patrón de tracción, aspectos que influyen en el agarre y la durabilidad en diversas superficies.\"),\n",
    "    (\"Sistema de amortiguación\", \"Especifica las tecnologías o materiales destinados a reducir el impacto durante la pisada, contribuyendo al confort y la protección de las articulaciones.\"),\n",
    "    (\"Drop (diferencial talón-punta)\", \"Indica la diferencia de altura entre el talón y la punta de la zapatilla, medida en milímetros. Un drop alto suele ofrecer mayor amortiguación en el talón, mientras que un drop bajo promueve una pisada más natural.\"),\n",
    "    (\"Tipo de pisada\", \"Clasifica la zapatilla según su adecuación para diferentes tipos de pisada: neutra, pronadora o supinadora. Esto es esencial para elegir un calzado que se adapte a la biomecánica del corredor.\"),\n",
    "    (\"Tipo de uso\", \"Define el propósito principal de la zapatilla, como entrenamiento diario, competición, trail running o uso casual, lo que orienta sobre su diseño y funcionalidades específicas.\"),\n",
    "    (\"Género\", \"Indica si la zapatilla está diseñada para hombres, mujeres o es un modelo unisex, considerando diferencias anatómicas y de tamaño.\"),\n",
    "    (\"Tallas disponibles\", \"Especifica el rango de tallas en las que se ofrece la zapatilla, asegurando que el corredor pueda encontrar un ajuste adecuado.\"),\n",
    "    (\"Anchura\", \"Algunas marcas ofrecen diferentes anchos (estrecho, estándar, ancho) para adaptarse a diversas morfologías del pie.\"),\n",
    "    (\"Precio\", \"Proporciona el costo de la zapatilla, un factor determinante en la decisión de compra.\"),\n",
    "    (\"Tecnologías adicionales\", \"Incluye características especiales como impermeabilidad, reflectividad, sistemas de ajuste personalizados o elementos de estabilidad que mejoran la funcionalidad del calzado.\"),\n",
    "]'''"
   ]
  },
  {
   "cell_type": "code",
   "execution_count": 7,
   "metadata": {},
   "outputs": [],
   "source": [
    "labels_with_definitions = [\n",
    "    (\"Weight\", \"Indicates the lightness of the shoe, usually expressed in grams. Weight can influence performance and comfort during running.\"),\n",
    "    (\"Upper Material\", \"Describes the materials used in the shoe's upper part, such as mesh, synthetic leather, or technical fabrics, which affect breathability, flexibility, and support.\"),\n",
    "    (\"Midsole Material\", \"Refers to the compounds used in the midsole, such as EVA foams or proprietary technologies, which provide cushioning and shock absorption.\"),\n",
    "    (\"Outsole\", \"Details the type of rubber or material used in the sole and the traction pattern design, which influence grip and durability on various surfaces.\"),\n",
    "    (\"Cushioning System\", \"Specifies the technologies or materials aimed at reducing impact during strides, contributing to comfort and joint protection.\"),\n",
    "    (\"Drop (heel-to-toe differential)\", \"Indicates the height difference between the heel and the toe of the shoe, measured in millimeters. A higher drop typically offers more heel cushioning, while a lower drop promotes a more natural stride.\"),\n",
    "    (\"Pronation Type\", \"Classifies the shoe according to its suitability for different pronation types: neutral, overpronation, or supination. This is essential for choosing footwear that matches the runner's biomechanics.\"),\n",
    "    (\"Usage Type\", \"Defines the primary purpose of the shoe, such as daily training, racing, trail running, or casual use, guiding its specific design and features.\"),\n",
    "    (\"Gender\", \"Indicates whether the shoe is designed for men, women, or is a unisex model, considering anatomical and sizing differences.\"),\n",
    "    (\"Available Sizes\", \"Specifies the range of sizes in which the shoe is offered, ensuring the runner can find a suitable fit.\"),\n",
    "    (\"Width\", \"Some brands offer different widths (narrow, standard, wide) to accommodate various foot shapes.\"),\n",
    "    (\"Price\", \"Provides the cost of the shoe, a determining factor in purchasing decisions.\"),\n",
    "    (\"Additional Technologies\", \"Includes special features such as waterproofing, reflectivity, customized fit systems, or stability elements that enhance the shoe's functionality.\"),\n",
    "]\n"
   ]
  },
  {
   "cell_type": "markdown",
   "metadata": {},
   "source": [
    "## Funciones"
   ]
  },
  {
   "cell_type": "code",
   "execution_count": 5,
   "metadata": {},
   "outputs": [],
   "source": [
    "def transformar_texto(texto, marca):\n",
    "    if texto is None or (isinstance(texto, float) and np.isnan(texto)):\n",
    "        return texto\n",
    "    \n",
    "    if marca.lower() == \"adidas\":\n",
    "        # Transformación original para adidas\n",
    "        if isinstance(texto, (list, np.ndarray)):\n",
    "            texto = \", \".join(map(str, texto))\n",
    "        else:\n",
    "            texto = str(texto)\n",
    "        texto = texto.strip(\"[]\")\n",
    "        texto = re.sub(r\",\\s*\", '} {', texto)\n",
    "        texto = '{' + texto + '}'\n",
    "        return texto\n",
    "    \n",
    "    elif marca.lower() == \"nike\":\n",
    "        # Transformación específica para nike\n",
    "        if isinstance(texto, list):\n",
    "            # Elimina claves con valores irrelevantes\n",
    "            texto_limpio = [\n",
    "                {k.strip(): v.strip() for k, v in d.items() if k.strip() not in ['\\xa0']}\n",
    "                for d in texto\n",
    "                if isinstance(d, dict)\n",
    "            ]\n",
    "            # Filtra elementos vacíos o irrelevantes\n",
    "            texto_limpio = [d for d in texto_limpio if d]\n",
    "            return texto_limpio\n",
    "        return texto  # Si no es lista, regresa el texto original\n",
    "\n",
    "    else:\n",
    "        raise ValueError(f\"Marca '{marca}' no reconocida. Usa 'adidas' o 'nike'.\")\n",
    "\n",
    "def obtener_respuesta_ollama(prompt):\n",
    "    response = ollama.chat(\n",
    "        model=\"llama3.2:latest\",\n",
    "        messages = [\n",
    "           {\n",
    "               \"role\":\"user\",\n",
    "               \"content\": prompt\n",
    "           } \n",
    "        ]\n",
    "    )\n",
    "    # La respuesta es un generador; concatenamos las partes\n",
    "    return response\n",
    "\n",
    "\n",
    "\n",
    "def generate_prompt_ollama(product, labels_with_definitions):\n",
    "    labels = [label for label, _ in labels_with_definitions]\n",
    "    prompt = f\"\"\"\n",
    "        You are an assistant specialized in extracting structured information from product descriptions and organizing it into tables.\n",
    "        Your task is to extract the following information from the product details and label it according to the provided labels: {', '.join(labels)}.\n",
    "        Each label has the following definition to help guide your extraction:\n",
    "\n",
    "        {''.join([f'- {label}: {definition}\\n' for label, definition in labels_with_definitions])}\n",
    "\n",
    "        If a label does not have a clear match in the details, complete its value with \"null\".\n",
    "\n",
    "        Product information:\n",
    "        - Details: {product['details']}\n",
    "        - Description: {product['description']}\n",
    "        - Category: {product['category']}\n",
    "\n",
    "        Provide the information in a table with columns corresponding to each label. \n",
    "        The table must include **two complete rows**:\n",
    "        1. The first row contains the label names.\n",
    "        2. The second row contains the corresponding labeled values.\n",
    "\n",
    "        Expected response format:\n",
    "        | {' | '.join(labels)} |\n",
    "        | {' | '.join(['---'] * len(labels))} |\n",
    "        | value_1 | value_2 | ... |\n",
    "        \n",
    "        Example:\n",
    "        If the labels are \"details\", \"description\", and \"category\", and the extracted values are \n",
    "        \"Comfortable sneakers\", \"Made with recycled materials\", and \"Footwear\", respectively, \n",
    "        your response should be:\n",
    "\n",
    "        | details | description | category |\n",
    "        | --- | --- | --- |\n",
    "        | Comfortable sneakers | Made with recycled materials | Footwear |\n",
    "\n",
    "        Remember:\n",
    "        - The response must contain two complete rows.\n",
    "        - Only respond with the table and **do not include additional text**.\n",
    "\n",
    "        Now, extract and structure the information for the provided product:\n",
    "\n",
    "        | {' | '.join(labels)} |\n",
    "        | {' | '.join(['---'] * len(labels))} |\n",
    "        |\"\"\"\n",
    "    return prompt.strip()\n",
    "\n",
    "# Tokenizer function (using tiktoken for GPT-like models)\n",
    "def count_tokens(text):\n",
    "    try:\n",
    "        encoding = get_encoding(\"cl100k_base\")  # Example encoding for GPT-like models\n",
    "        return len(encoding.encode(text))\n",
    "    except Exception:\n",
    "        return len(text.split())  # Fallback: approximate by word count\n",
    "# Función de simulación de Monte Carlo corregida\n",
    "def monte_carlo_simulation(products, models, iterations=1000, num_products=None):\n",
    "    results = {}\n",
    "    \n",
    "    for model_name, model_info in models.items():\n",
    "        tokens_per_product = {}\n",
    "        costs_per_product = {}\n",
    "        \n",
    "        for _ in range(iterations):\n",
    "            # Muestra una fracción de los productos si se especifica\n",
    "            if num_products is not None and num_products < len(products):\n",
    "                sampled_products = random.sample(products, num_products)\n",
    "            else:\n",
    "                sampled_products = products\n",
    "\n",
    "            for product in sampled_products:\n",
    "                product_id = product.get('id', id(product))  # Usamos un identificador único para cada producto\n",
    "                prompt = generate_prompt_ollama(product, labels_with_definitions)\n",
    "                tokens = count_tokens(prompt)\n",
    "                \n",
    "                # Verifica si el número de tokens excede la ventana de contexto\n",
    "                if tokens > model_info['context_window']*1000:\n",
    "                    print(f\"Advertencia: El prompt excede la ventana de contexto para el modelo {model_name}\")\n",
    "                    # Puedes manejar este caso según necesites (e.g., omitir, truncar)\n",
    "                    continue\n",
    "                \n",
    "                cost = (tokens / 1000) * model_info['cost_in']\n",
    "                \n",
    "                # Actualiza los máximos y mínimos por producto\n",
    "                if product_id not in tokens_per_product:\n",
    "                    tokens_per_product[product_id] = {'max': tokens, 'min': tokens}\n",
    "                    costs_per_product[product_id] = {'max': cost, 'min': cost}\n",
    "                else:\n",
    "                    tokens_per_product[product_id]['max'] = max(tokens_per_product[product_id]['max'], tokens)\n",
    "                    tokens_per_product[product_id]['min'] = min(tokens_per_product[product_id]['min'], tokens)\n",
    "                    costs_per_product[product_id]['max'] = max(costs_per_product[product_id]['max'], cost)\n",
    "                    costs_per_product[product_id]['min'] = min(costs_per_product[product_id]['min'], cost)\n",
    "        \n",
    "        # Después de todas las iteraciones, obtenemos los máximos y mínimos globales\n",
    "        max_tokens = max([data['max'] for data in tokens_per_product.values()], default=0)\n",
    "        min_tokens = min([data['min'] for data in tokens_per_product.values()], default=0)\n",
    "        max_cost = max([data['max'] for data in costs_per_product.values()], default=0)\n",
    "        min_cost = min([data['min'] for data in costs_per_product.values()], default=0)\n",
    "        \n",
    "        results[model_name] = {\n",
    "            'max_tokens': max_tokens,\n",
    "            'min_tokens': min_tokens,\n",
    "            'max_cost': max_cost,\n",
    "            'min_cost': min_cost,\n",
    "        }\n",
    "    return results"
   ]
  },
  {
   "cell_type": "code",
   "execution_count": 19,
   "metadata": {},
   "outputs": [],
   "source": [
    "def procesar_respuesta(respuesta_texto, etiquetas):\n",
    "    try:\n",
    "        # Buscar el inicio de la tabla\n",
    "        inicio_tabla = respuesta_texto.find('|')\n",
    "        if inicio_tabla != -1:\n",
    "            # Extraer la tabla desde el primer '|'\n",
    "            tabla_texto = respuesta_texto[inicio_tabla:].strip()\n",
    "            # Extraer solo las líneas que contienen '|'\n",
    "            lineas = tabla_texto.split('\\n')\n",
    "            lineas_tabla = []\n",
    "            for linea in lineas:\n",
    "                if '|' in linea:\n",
    "                    # Eliminar los '|' iniciales y finales y espacios extra\n",
    "                    linea = linea.strip().strip('|').strip()\n",
    "                    lineas_tabla.append(linea)\n",
    "                else:\n",
    "                    # Detenerse si la línea no contiene '|'\n",
    "                    break\n",
    "            tabla_completa = '\\n'.join(lineas_tabla)\n",
    "            # Convertir la tabla Markdown a un DataFrame\n",
    "            df = pd.read_csv(StringIO(tabla_completa), sep='|', engine='python', skipinitialspace=True)\n",
    "            # Limpiar nombres de columnas y datos\n",
    "            df.columns = [col.strip() for col in df.columns]\n",
    "            for col in df.columns:\n",
    "                if df[col].dtype == object:\n",
    "                    df[col] = df[col].str.strip()\n",
    "            # Resetear el índice\n",
    "            df = df.reset_index(drop=True)\n",
    "            return df\n",
    "        else:\n",
    "            print(\"No se encontró una tabla en la respuesta.\")\n",
    "            return None\n",
    "    except Exception as e:\n",
    "        print(f\"Error al procesar la tabla: {e}\")\n",
    "        return None\n"
   ]
  },
  {
   "cell_type": "markdown",
   "metadata": {},
   "source": [
    "## Lectura de datos"
   ]
  },
  {
   "cell_type": "code",
   "execution_count": 8,
   "metadata": {},
   "outputs": [
    {
     "name": "stdout",
     "output_type": "stream",
     "text": [
      "200\n"
     ]
    }
   ],
   "source": [
    "url =\"https://scraping-firestore-178159629911.us-central1.run.app//v1/scraping/\"\n",
    "\n",
    "response = requests.get(url)\n",
    "\n",
    "if response.status_code == 200:\n",
    "    data = response.json()\n",
    "    print(response.status_code)\n",
    "else:\n",
    "    print(f'Error: {response.status_code}')\n",
    "\n",
    "df_raw = pd.DataFrame(data)"
   ]
  },
  {
   "cell_type": "markdown",
   "metadata": {},
   "source": [
    "## Clasificacion"
   ]
  },
  {
   "cell_type": "code",
   "execution_count": 9,
   "metadata": {},
   "outputs": [],
   "source": [
    "df_adidas = df_raw[df_raw['store'] == 'adidas']"
   ]
  },
  {
   "cell_type": "code",
   "execution_count": 10,
   "metadata": {},
   "outputs": [
    {
     "name": "stderr",
     "output_type": "stream",
     "text": [
      "C:\\Users\\Usuario\\AppData\\Local\\Temp\\ipykernel_15108\\354877031.py:2: SettingWithCopyWarning: \n",
      "A value is trying to be set on a copy of a slice from a DataFrame.\n",
      "Try using .loc[row_indexer,col_indexer] = value instead\n",
      "\n",
      "See the caveats in the documentation: https://pandas.pydata.org/pandas-docs/stable/user_guide/indexing.html#returning-a-view-versus-a-copy\n",
      "  df_adidas['details_transformado'] = df_adidas['details'].apply(lambda x: transformar_texto(x, 'adidas'))\n"
     ]
    }
   ],
   "source": [
    "# Lista de descripciones de productos\n",
    "df_adidas['details_transformado'] = df_adidas['details'].apply(lambda x: transformar_texto(x, 'adidas'))"
   ]
  },
  {
   "cell_type": "code",
   "execution_count": 30,
   "metadata": {},
   "outputs": [
    {
     "data": {
      "text/plain": [
       "Index(['id', 'details', 'store', 'manufacturer', 'url', 'title',\n",
       "       'regularPrice', 'undiscounted_price', 'description', 'category',\n",
       "       'createdAt', 'characteristics', 'gender', 'details_transformado'],\n",
       "      dtype='object')"
      ]
     },
     "execution_count": 30,
     "metadata": {},
     "output_type": "execute_result"
    }
   ],
   "source": [
    "df_adidas.columns"
   ]
  },
  {
   "cell_type": "code",
   "execution_count": 32,
   "metadata": {},
   "outputs": [],
   "source": [
    "# Crear un diccionario con las llaves deseadas desde todo el DataFrame\n",
    "productos = [\n",
    "    {\n",
    "        \"id\": row['id'],\n",
    "        \"regularPrice\" : row[\"regularPrice\"],\n",
    "        \"undiscounted_price\": row[\"undiscounted_price\"],\n",
    "        \"details\": row['details_transformado'],\n",
    "        \"description\": row['description'],\n",
    "        \"category\": row['category']\n",
    "    }\n",
    "    for _, row in df_adidas.iterrows()  # Recorre todo el DataFrame\n",
    "    if row['details_transformado'] != '{}'  # Filtra donde los detalles no estén vacíos\n",
    "]"
   ]
  },
  {
   "cell_type": "code",
   "execution_count": 24,
   "metadata": {},
   "outputs": [
    {
     "data": {
      "text/plain": [
       "[{'id': '0AqheRhKT2lhm7puBVCF',\n",
       "  'details': '{Ajuste clásico} {Sistema de amarre de cordones} {Exterior de tejido adidas Primeknit} {Ajuste suave en el talón} {Sistema Linear Energy Push} {Mediasuela BOOST} {Peso: 289 g (Talla CO 37)} {Suela Stretchweb con caucho Continental™ Better Rubber} {El hilo del exterior contiene al menos un 50% de Parley Ocean Plastic y un 50% de poliéster reciclado} {Color del artículo: Core Black / Core Black / Cloud White} {Número de artículo: GX5591}',\n",
       "  'description': 'Hemos analizado 1.200.000 pisadas para que Ultraboost evolucione y mejore su ajuste para adaptarse 360° al pie femenino. Y aún hay más. Hemos rediseñado la suela de caucho. Probamos cientos de prototipos. Hasta que comprobamos las mejoras en su rendimiento. ¿El resultado? Un 4 % más de energía que los Ultraboost 21 para mujer. El ajuste en el área del talón del exterior adidas PRIMEKNIT se diseñó para evitar que el talón se deslice y se formen ampollas. Estarás corriendo sobre una mediasuela BOOST con tecnología Linear Energy Push. El exterior de este calzado está confeccionado con hilo que contiene un 50% de Parley Ocean Plastic, un material que ha sido recuperado de residuos plásticos recogidos en islas, playas, comunidades costeras y costas evitando que contaminen nuestros océanos.',\n",
       "  'category': 'Mujer • Running'}]"
      ]
     },
     "execution_count": 24,
     "metadata": {},
     "output_type": "execute_result"
    }
   ],
   "source": [
    "productos[1:2]"
   ]
  },
  {
   "cell_type": "code",
   "execution_count": null,
   "metadata": {},
   "outputs": [
    {
     "name": "stdout",
     "output_type": "stream",
     "text": [
      "{'id': '0AqheRhKT2lhm7puBVCF', 'regularPrice': '$799.950', 'undiscounted_price': 'NA', 'details': '{Ajuste clásico} {Sistema de amarre de cordones} {Exterior de tejido adidas Primeknit} {Ajuste suave en el talón} {Sistema Linear Energy Push} {Mediasuela BOOST} {Peso: 289 g (Talla CO 37)} {Suela Stretchweb con caucho Continental™ Better Rubber} {El hilo del exterior contiene al menos un 50% de Parley Ocean Plastic y un 50% de poliéster reciclado} {Color del artículo: Core Black / Core Black / Cloud White} {Número de artículo: GX5591}', 'description': 'Hemos analizado 1.200.000 pisadas para que Ultraboost evolucione y mejore su ajuste para adaptarse 360° al pie femenino. Y aún hay más. Hemos rediseñado la suela de caucho. Probamos cientos de prototipos. Hasta que comprobamos las mejoras en su rendimiento. ¿El resultado? Un 4 % más de energía que los Ultraboost 21 para mujer. El ajuste en el área del talón del exterior adidas PRIMEKNIT se diseñó para evitar que el talón se deslice y se formen ampollas. Estarás corriendo sobre una mediasuela BOOST con tecnología Linear Energy Push. El exterior de este calzado está confeccionado con hilo que contiene un 50% de Parley Ocean Plastic, un material que ha sido recuperado de residuos plásticos recogidos en islas, playas, comunidades costeras y costas evitando que contaminen nuestros océanos.', 'category': 'Mujer • Running'}\n",
      "Respuesta del modelo:\n",
      "| Weight | Upper Material | Midsole Material | Outsole | Cushioning System | Drop (heel-to-toe differential) | Pronation Type | Usage Type | Gender | Available Sizes | Width | Price | Additional Technologies |\n",
      "| --- | --- | --- | --- | --- | --- | --- | --- | --- | --- | --- | --- | --- |\n",
      "| 289 g | adidas Primeknit | Mediasuela BOOST | Suela Stretchweb con caucho Continental™ Better Rubber | Sistema Linear Energy Push | null | neutral | Daily training | mujer | CO 37 - ?? | null | 4% más de energía que Ultraboost 21 para mujer | El hilo del exterior contiene al menos un 50% de Parley Ocean Plastic y un 50% de poliéster reciclado |\n",
      "\n",
      "------------------------\n",
      "\n",
      "{'id': '0IgYTzUHkE7zIdcVyFCK', 'regularPrice': '$1.049.950', 'undiscounted_price': '$629.970', 'details': '{Ajuste clásico} {Cierre de cordones} {Parte superior de malla técnica} {Amortiguación Lightstrike Pro} {Varillas ENERGYRODS que limitan la pérdida de energía} {Talón Slinglaunch para un ajuste seguro} {Peso: 166 g (Talla COL 36 1/2)} {Caída mediasuela: 6 mm (talón: 32 mm / antepié: 26 mm)} {Suela de caucho Continental™} {Contiene al menos un 20 % de material reciclado} {Color del artículo: Green Spark / Aurora Met. / Lucid Lemon} {Número de artículo: IG8206}', 'description': 'Haz tus mejores 10k con nuestros nuevos tenis de running Adizero, diseñados exclusivamente para darte máxima velocidad. Los Adizero Takumi Sen 10 han sido diseñados con dos capas de amortiguación LIGHTSTRIKE PRO, combinadas con las varillas ENERGYRODS para una mayor estabilidad e impulso en tu carrera. Supera tu marca personal y llega a la meta más rápido que nunca.', 'category': 'Mujer • Running'}\n",
      "Respuesta del modelo:\n",
      "| Weight | Upper Material | Midsole Material | Outsole | Cushioning System | Drop (heel-to-toe differential) | Pronation Type | Usage Type | Gender | Available Sizes | Width | Price | Additional Technologies |\n",
      "| --- | --- | --- | --- | --- | --- | --- | --- | --- | --- | --- | --- | --- |\n",
      "| 166 g | Parte superior de malla técnica | Amortiguación Lightstrike Pro | Suela de caucho Continental™ | Contains at least a 20% recycled material | 6 mm (talón: 32 mm / antepié: 26 mm) | Neutral | Daily training | Women | Talla COL 36 1/2, null | null | 166 g | Contains al menos un 20 % de material reciclado |\n",
      "\n",
      "------------------------\n",
      "\n"
     ]
    }
   ],
   "source": [
    "dfs = []\n",
    "for producto in productos:\n",
    "    prompt = generate_prompt_ollama(producto, labels_with_definitions)\n",
    "    respuesta = obtener_respuesta_ollama(prompt)\n",
    "    print(producto)\n",
    "    print(\"Respuesta del modelo:\")\n",
    "    print(respuesta[\"message\"][\"content\"])\n",
    "    print(\"\\n------------------------\\n\")\n",
    "    df = procesar_respuesta(respuesta[\"message\"][\"content\"], labels_with_definitions)\n",
    "    if df is not None:\n",
    "        attribute_columns = df.columns[:-3]\n",
    "        dfs = []\n",
    "        df['id'] = producto['id']\n",
    "        df['regularPrice'] = producto['regularPrice']\n",
    "        df['undiscounted_price'] = producto['undiscounted_price']\n",
    "        df = df[~df[attribute_columns].eq('---').all(axis=1)]\n",
    "        df = df.dropna(how='all')\n",
    "        dfs.append(df)\n",
    "        \n",
    "    else:\n",
    "        print(\"No se pudo extraer la tabla.\\n\")"
   ]
  },
  {
   "cell_type": "code",
   "execution_count": 62,
   "metadata": {},
   "outputs": [],
   "source": [
    "if dfs:\n",
    "    df_total = pd.concat(dfs, ignore_index=True)\n",
    "else:\n",
    "    print(\"No se pudo crear el DataFrame total.\")"
   ]
  },
  {
   "cell_type": "code",
   "execution_count": 65,
   "metadata": {},
   "outputs": [],
   "source": [
    "output_path = \"../src/comparative_analysis/database/adidas_etiquetado.xlsx\"\n",
    "df_total.to_excel(output_path, index=False)"
   ]
  },
  {
   "cell_type": "code",
   "execution_count": null,
   "metadata": {},
   "outputs": [],
   "source": []
  }
 ],
 "metadata": {
  "kernelspec": {
   "display_name": "venv",
   "language": "python",
   "name": "python3"
  },
  "language_info": {
   "codemirror_mode": {
    "name": "ipython",
    "version": 3
   },
   "file_extension": ".py",
   "mimetype": "text/x-python",
   "name": "python",
   "nbconvert_exporter": "python",
   "pygments_lexer": "ipython3",
   "version": "3.12.3"
  }
 },
 "nbformat": 4,
 "nbformat_minor": 2
}
