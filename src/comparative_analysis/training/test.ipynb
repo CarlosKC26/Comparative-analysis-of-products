{
 "cells": [
  {
   "cell_type": "code",
   "execution_count": 1,
   "metadata": {},
   "outputs": [
    {
     "name": "stdout",
     "output_type": "stream",
     "text": [
      "       Weight                   Upper_Material      Midsole_Material  \\\n",
      "0       183 g                        Synthetic                   NaN   \n",
      "1       289 g                 adidas Primeknit                 BOOST   \n",
      "2       166 g  Parte superior de malla técnica                   NaN   \n",
      "3  200 gramos          Parte superior de malla                   NaN   \n",
      "4        319g            Parte superior textil  Mediasuela Cloudfoam   \n",
      "\n",
      "                                     Outsole              Cushioning_System  \\\n",
      "0                             Textile rubber                Lightstrike Pro   \n",
      "1  Stretchweb with Continental Better Rubber             Linear Energy Push   \n",
      "2               Suela de caucho Continental™  Amortiguación Lightstrike Pro   \n",
      "3         Suela de caucho Continental Rubber  Amortiguación Lightstrike Pro   \n",
      "4                               Suela de TPU                      Cloudfoam   \n",
      "\n",
      "  Drop__heel-to-toe_differential_ Pronation_Type Usage_Type  Gender  \\\n",
      "0                            6 mm            NaN     Racing   Woman   \n",
      "1                             NaN            NaN    Running   Woman   \n",
      "2                            6 mm            NaN    Running   Mujer   \n",
      "3                            6 mm            NaN    Running  Hombre   \n",
      "4                             6mm            NaN    Running  Hombre   \n",
      "\n",
      "  Available_Sizes  Width                            Additional_Technologies  \\\n",
      "0             NaN    NaN  ENERGYRODS 2.0, Waterproofing, Recyclable mate...   \n",
      "1             NaN    NaN                Parley Ocean Plastic, waterproofing   \n",
      "2      COL 36 1/2    NaN  Contiene al menos un 20 % de material reciclad...   \n",
      "3           CO 40    NaN  Varillas ENERGYRODS, Talón Slinglaunch, Contie...   \n",
      "4           CO 40    NaN                                                NaN   \n",
      "\n",
      "                     id regularPrice undiscounted_price  \\\n",
      "0  08sjncACSjSvg2t9DS73   $1.299.950           $909.965   \n",
      "1  0AqheRhKT2lhm7puBVCF     $799.950                NaN   \n",
      "2  0IgYTzUHkE7zIdcVyFCK   $1.049.950           $629.970   \n",
      "3  0MU8aKCnCUZv2r9aLD67   $1.049.950           $734.965   \n",
      "4  0Q6DNSlvsjBzy3AQeY2y     $279.950                NaN   \n",
      "\n",
      "                                             details  \\\n",
      "0  {Horma clásica} {Parte superior sintética} {Fo...   \n",
      "1  {Ajuste clásico} {Sistema de amarre de cordone...   \n",
      "2  {Ajuste clásico} {Cierre de cordones} {Parte s...   \n",
      "3  {Ajuste clásico} {Sistema de amarre de cordone...   \n",
      "4  {Horma clásica} {Sistema de amarre de cordones...   \n",
      "\n",
      "                                         description          category  \\\n",
      "0  Los Adizero Adios Pro 3 son la máxima expresió...   Mujer • Running   \n",
      "1  Hemos analizado 1.200.000 pisadas para que Ult...   Mujer • Running   \n",
      "2  Haz tus mejores 10k con nuestros nuevos tenis ...   Mujer • Running   \n",
      "3  Haz tus mejores 10k con nuestros nuevos tenis ...  Hombre • Running   \n",
      "4  Cada carrera es un viaje de descubrimiento. Po...  Hombre • Running   \n",
      "\n",
      "   characteristics  \n",
      "0              NaN  \n",
      "1              NaN  \n",
      "2              NaN  \n",
      "3              NaN  \n",
      "4              NaN  \n"
     ]
    },
    {
     "name": "stderr",
     "output_type": "stream",
     "text": [
      "c:\\Users\\cdgn2\\OneDrive\\Escritorio\\Maestría\\Maestria\\Metodologias Agiles\\Proyecto\\Comparative-analysis-of-products\\venv\\lib\\site-packages\\openpyxl\\styles\\stylesheet.py:237: UserWarning: Workbook contains no default style, apply openpyxl's default\n",
      "  warn(\"Workbook contains no default style, apply openpyxl's default\")\n"
     ]
    }
   ],
   "source": [
    "import pandas as pd\n",
    "\n",
    "# Ruta del archivo de Excel\n",
    "ruta_excel = r\"C:\\Users\\cdgn2\\OneDrive\\Escritorio\\Maestría\\Maestria\\Metodologias Agiles\\Proyecto\\Comparative-analysis-of-products\\src\\comparative_analysis\\database\\Adidas_etiquetado.xlsx\"\n",
    "\n",
    "# Crear el DataFrame\n",
    "df = pd.read_excel(ruta_excel, header=0)\n",
    "\n",
    "# Mostrar las primeras filas del DataFrame\n",
    "print(df.head())"
   ]
  }
 ],
 "metadata": {
  "kernelspec": {
   "display_name": "venv",
   "language": "python",
   "name": "python3"
  },
  "language_info": {
   "codemirror_mode": {
    "name": "ipython",
    "version": 3
   },
   "file_extension": ".py",
   "mimetype": "text/x-python",
   "name": "python",
   "nbconvert_exporter": "python",
   "pygments_lexer": "ipython3",
   "version": "3.10.6"
  }
 },
 "nbformat": 4,
 "nbformat_minor": 2
}
